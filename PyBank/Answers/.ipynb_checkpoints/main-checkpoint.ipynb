{
 "cells": [
  {
   "cell_type": "code",
   "execution_count": 1,
   "id": "d2cd07ef-d46c-47ed-93c0-ff49bc8c9be8",
   "metadata": {},
   "outputs": [],
   "source": [
    "# @TODO: Import the pathlib and csv library\n",
    "from pathlib import Path\n",
    "import csv"
   ]
  },
  {
   "cell_type": "code",
   "execution_count": 2,
   "id": "6097e823-820f-4b07-beea-cf71cd977267",
   "metadata": {},
   "outputs": [],
   "source": [
    "# @TODO: Set the file path\n",
    "budget_path = Path(\"../../PyBank/Resources/budget_data.csv\")\n",
    "file_to_output = Path(\"../../PyBank/Answers/budget_analysis.txt\")"
   ]
  },
  {
   "cell_type": "code",
   "execution_count": 3,
   "id": "b7ad4e39-9764-402f-b516-2c0f34190862",
   "metadata": {},
   "outputs": [],
   "source": [
    "total_months = 0\n",
    "month_of_change = []\n",
    "# Average of the changes in Profit/Losses over the entire period.\n",
    "net_change_list = []\n",
    "# Greatest profit/loss over the period.\n",
    "greatest_increase = [\"\", 0]\n",
    "greatest_decrease = [\"\", 9999999999999999999]\n",
    "# The net total amount of Profit/Losses over the entire period.\n",
    "total = 0"
   ]
  },
  {
   "cell_type": "code",
   "execution_count": 4,
   "id": "a410c77d-3b4a-483a-96ea-8c61ec97eecb",
   "metadata": {},
   "outputs": [],
   "source": [
    "# Open the file in \"read\" mode ('r') and\n",
    "# store the contents in the variable 'file'\n",
    "with open(budget_path, 'r') as csvfile:\n",
    "    csvreader = csv.reader(csvfile, delimiter=',')\n",
    "    csv_header = next(csvreader)\n",
    "    \n",
    "    first_row = next(csvreader)\n",
    "    total_months = total_months + 1\n",
    "    total = total + int(first_row[1])\n",
    "    prev_net = int(first_row[1])\n",
    "    \n",
    "    for row in csvreader:\n",
    "        \n",
    "        # Sum the total and count of the numbers in the text file\n",
    "        total_months = total_months + 1 \n",
    "        total = total + int(row[1])\n",
    "        \n",
    "        total_change = int(row[1]) - prev_net\n",
    "        prev_net = int(row[1])\n",
    "        net_change_list = net_change_list + [total_change]\n",
    "        month_of_change = month_of_change + [row[0]]\n",
    "        \n",
    "        # Calculate the greatest increase: \n",
    "        if total_change > greatest_increase[1]: \n",
    "            greatest_increase[0] = row[0]\n",
    "            greatest_increase[1] = total_change\n",
    "            \n",
    "        if total_change < greatest_decrease[1]: \n",
    "            greatest_decrease[0] = row[0]\n",
    "            greatest_decrease[1] = total_change\n",
    "        \n",
    "# Calculate the average change\n",
    "average_change = round(sum(net_change_list)/len(net_change_list),2)\n",
    "\n",
    "# Write output file\n",
    "with open(file_to_output,\"w\") as txt_file: \n",
    "    txt_file.write(f\"Financial Analysis\\n\")\n",
    "    txt_file.write(f\"-----------------------\\n\")\n",
    "    txt_file.write(f\"Total Months: {total_months}\\n\")\n",
    "    txt_file.write(f\"Total: ${total}\\n\")\n",
    "    txt_file.write(f\"Average Change: {average_change}\\n\")\n",
    "    txt_file.write(f\"Greatest Increase: {greatest_increase[0]} (${greatest_increase[1]})\\n\")\n",
    "    txt_file.write(f\"Greatest Decrease: {greatest_decrease[0]} (${greatest_decrease[1]})\\n\")\n",
    "\n",
    "# # Print out customer_total and day_count\n",
    "# print(\"Financial Analysis\")\n",
    "# print(\"-----------------------\")\n",
    "# print(f\"Total Months: {total_months}\")\n",
    "# print(f\"Total: ${total}\")\n",
    "# print(f\"Average Change: {average_change}\")\n",
    "# print(f\"Greatest Increase: {greatest_increase[0]} {greatest_increase[1]}\")\n",
    "# print(f\"Greatest Decrease: {greatest_decrease[0]} {greatest_decrease[1]}\")\n"
   ]
  },
  {
   "cell_type": "code",
   "execution_count": null,
   "id": "9859ce98-fc72-462b-b4ee-68ab5a5973f0",
   "metadata": {},
   "outputs": [],
   "source": []
  },
  {
   "cell_type": "code",
   "execution_count": null,
   "id": "d6095a95-5233-4709-8cf7-b4d6bf5e645c",
   "metadata": {},
   "outputs": [],
   "source": []
  }
 ],
 "metadata": {
  "kernelspec": {
   "display_name": "Python 3 (ipykernel)",
   "language": "python",
   "name": "python3"
  },
  "language_info": {
   "codemirror_mode": {
    "name": "ipython",
    "version": 3
   },
   "file_extension": ".py",
   "mimetype": "text/x-python",
   "name": "python",
   "nbconvert_exporter": "python",
   "pygments_lexer": "ipython3",
   "version": "3.9.7"
  }
 },
 "nbformat": 4,
 "nbformat_minor": 5
}
