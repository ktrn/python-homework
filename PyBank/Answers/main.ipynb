{
 "cells": [
  {
   "cell_type": "code",
   "execution_count": 1,
   "id": "d2cd07ef-d46c-47ed-93c0-ff49bc8c9be8",
   "metadata": {},
   "outputs": [],
   "source": [
    "# @TODO: Import the pathlib and csv library\n",
    "from pathlib import Path\n",
    "import csv"
   ]
  },
  {
   "cell_type": "code",
   "execution_count": 2,
   "id": "6097e823-820f-4b07-beea-cf71cd977267",
   "metadata": {},
   "outputs": [],
   "source": [
    "# @TODO: Set the file path\n",
    "budget_path = Path(\"../../PyBank/Resources/budget_data.csv\")"
   ]
  },
  {
   "cell_type": "code",
   "execution_count": 3,
   "id": "b7ad4e39-9764-402f-b516-2c0f34190862",
   "metadata": {},
   "outputs": [],
   "source": [
    "# Initialize variables\n",
    "total_months = 0\n",
    "total = 0\n",
    "average_change = 0\n",
    "greatest_increase_in_profits = 0\n",
    "greatest_decrease_in_profits = 0"
   ]
  },
  {
   "cell_type": "code",
   "execution_count": 4,
   "id": "a410c77d-3b4a-483a-96ea-8c61ec97eecb",
   "metadata": {},
   "outputs": [
    {
     "name": "stdout",
     "output_type": "stream",
     "text": [
      "Financial Analysis\n",
      "-----------------------\n",
      "Total Months: 85\n",
      "Total: $37514694\n",
      "Average Change: -2315.12\n"
     ]
    }
   ],
   "source": [
    "# Open the file in \"read\" mode ('r') and\n",
    "# store the contents in the variable 'file'\n",
    "with open(budget_path, 'r') as csvfile:\n",
    "    \n",
    "    # @TODO:\n",
    "    # Pass in the csv file to the csv.reader() function\n",
    "    # (with ',' as the delmiter/separator) and return the csvreader object\n",
    "    csvreader = csv.reader(csvfile, delimiter=',')\n",
    "    csv_header = next(csvreader)\n",
    "    \n",
    "    first_row = next(csvreader)\n",
    "    \n",
    "    net_change_list = []\n",
    "    for row in csvreader:\n",
    "        # Convert the number in the text file from string to int\n",
    "        sum_total = int(float(row[1]))\n",
    "        prev_net = int(first_row[1])\n",
    "        # Sum the total and count of the numbers in the text file\n",
    "        total_months += 1\n",
    "        total += sum_total\n",
    "        # Calculate the total change\n",
    "        net_change = int(row[1]) - prev_net\n",
    "        # Calculate the average change\n",
    "        average_change = round(net_change/total_months,2)\n",
    "        \n",
    "# net_change_list = net_change_list + [net_change]\n",
    "# print(net_change_list)\n",
    "\n",
    "# # Calculate the average\n",
    "# average = round(net_change_list / total_months, 2)\n",
    "    \n",
    "# Print out customer_total and day_count\n",
    "print(\"Financial Analysis\")\n",
    "print(\"-----------------------\")\n",
    "print(f\"Total Months: {total_months}\")\n",
    "print(f\"Total: ${total}\")\n",
    "print(f\"Average Change: {average_change}\")"
   ]
  },
  {
   "cell_type": "code",
   "execution_count": null,
   "id": "58e5e698-d2d5-4a65-b6e9-639d6532fcdd",
   "metadata": {},
   "outputs": [],
   "source": []
  },
  {
   "cell_type": "code",
   "execution_count": null,
   "id": "d6095a95-5233-4709-8cf7-b4d6bf5e645c",
   "metadata": {},
   "outputs": [],
   "source": []
  }
 ],
 "metadata": {
  "kernelspec": {
   "display_name": "Python 3 (ipykernel)",
   "language": "python",
   "name": "python3"
  },
  "language_info": {
   "codemirror_mode": {
    "name": "ipython",
    "version": 3
   },
   "file_extension": ".py",
   "mimetype": "text/x-python",
   "name": "python",
   "nbconvert_exporter": "python",
   "pygments_lexer": "ipython3",
   "version": "3.9.7"
  }
 },
 "nbformat": 4,
 "nbformat_minor": 5
}
